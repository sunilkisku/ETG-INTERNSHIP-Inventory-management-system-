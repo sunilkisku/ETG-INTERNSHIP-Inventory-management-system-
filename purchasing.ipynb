{
  "nbformat": 4,
  "nbformat_minor": 0,
  "metadata": {
    "colab": {
      "name": "purchasing.ipynb",
      "provenance": [],
      "collapsed_sections": []
    },
    "kernelspec": {
      "name": "python3",
      "display_name": "Python 3"
    },
    "language_info": {
      "name": "python"
    }
  },
  "cells": [
    {
      "cell_type": "code",
      "metadata": {
        "id": "pneA0oFuaf8w"
      },
      "source": [
        "import json\n",
        "\n",
        "fd = open(\"record.json\",'r')\n",
        "r = fd.read()\n",
        "fd.close()\n",
        "\n",
        "records = json.loads(r)"
      ],
      "execution_count": 63,
      "outputs": []
    },
    {
      "cell_type": "code",
      "metadata": {
        "colab": {
          "base_uri": "https://localhost:8080/"
        },
        "id": "la1TGCYMbA_g",
        "outputId": "c3845f3d-0486-41ad-e175-3fcd5dd6b4e7"
      },
      "source": [
        "records"
      ],
      "execution_count": 64,
      "outputs": [
        {
          "output_type": "execute_result",
          "data": {
            "text/plain": [
              "{'1001': {'name': 'Choco Cake', 'pr': 100, 'qn': 34},\n",
              " '1002': {'name': 'Milk Cake', 'pr': 800, 'qn': 100},\n",
              " '1004': {'name': 'Candy', 'pr': 5, 'qn': 1000},\n",
              " '1005': {'name': 'Pen', 'pr': 20, 'qn': 100},\n",
              " '1006': {'name': 'Phone', 'pr': 50000, 'qn': 10},\n",
              " '1007': {'name': 'Mic', 'pr': 1500, 'qn': 0},\n",
              " '1008': {'name': 'Case', 'pr': 599, 'qn': 5},\n",
              " '1009': {'name': 'Keyboard', 'pr': 1999, 'qn': 5},\n",
              " '1010': {'name': 'fruit', 'pr': 1200, 'qn': 5},\n",
              " '1011': {'name': 'sweep', 'pr': 500, 'qn': 7},\n",
              " '1012': {'name': 'soap', 'pr': 350, 'qn': 10},\n",
              " '1013': {'name': 'brush', 'pr': 520, 'qn': 10},\n",
              " '1014': {'name': 'matress', 'pr': 3000, 'qn': 2},\n",
              " '1015': {'name': 'blanket', 'pr': 1500, 'qn': 1},\n",
              " '1016': {'name': 'shoes', 'pr': 1600, 'qn': 1},\n",
              " '1017': {'name': 'flour', 'pr': 299, 'qn': 1},\n",
              " '1018': {'name': 't-shirt', 'pr': 600, 'qn': 7},\n",
              " '1019': {'name': 'bottle', 'pr': 300, 'qn': 1},\n",
              " '1020': {'name': 'earphone', 'pr': 499, 'qn': 2},\n",
              " '1021': {'name': 'iron', 'pr': 1600, 'qn': 1},\n",
              " '1022': {'name': 'mouse', 'pr': 5555, 'qn': 20},\n",
              " '1023': {'name': 'wiper', 'pr': 4000, 'qn': 12},\n",
              " '1024': {'name': 'phone', 'pr': 10000, 'qn': 33},\n",
              " '1025': {'name': 'shirt', 'pr': 8000, 'qn': 20},\n",
              " '1026': {'name': 'table', 'pr': 15000, 'qn': 25},\n",
              " '1027': {'name': 'perfume', 'pr': 6000, 'qn': 30},\n",
              " '1028': {'name': 'handwash', 'pr': 5000, 'qn': 45},\n",
              " '1029': {'name': 'sheets', 'pr': 400, 'qn': 20},\n",
              " '1030': {'name': 'backcover', 'pr': 500, 'qn': 60}}"
            ]
          },
          "metadata": {},
          "execution_count": 64
        }
      ]
    },
    {
      "cell_type": "code",
      "metadata": {
        "colab": {
          "base_uri": "https://localhost:8080/"
        },
        "id": "JTR9hneLbM9k",
        "outputId": "e659d8e2-7d0e-41be-8b11-38c08de3f42e"
      },
      "source": [
        "ui_prod  = str(input(\"Enter the product_Id: \"))\n",
        "ui_quant = int(input(\"Enter the quantity: \"))\n",
        "\n",
        "\n",
        "print(\"Product: \", records[ui_prod]['name'])\n",
        "print(\"Price: \", records[ui_prod]['pr'])\n",
        "print(\"Billing Amount: \", records[ui_prod]['pr'] * ui_quant)\n",
        "\n",
        "records[ui_prod]['qn'] = records[ui_prod]['qn'] - ui_quant"
      ],
      "execution_count": 75,
      "outputs": [
        {
          "output_type": "stream",
          "name": "stdout",
          "text": [
            "Enter the product_Id: 1025\n",
            "Enter the quantity: 5\n",
            "Product:  shirt\n",
            "Price:  8000\n",
            "Billing Amount:  40000\n"
          ]
        }
      ]
    },
    {
      "cell_type": "code",
      "metadata": {
        "id": "PcbOTCRZbfqB"
      },
      "source": [
        "js = json.dumps(records)\n",
        "\n",
        "fd = open(\"record.json\",'w')\n",
        "fd.write(js)\n",
        "fd.close()"
      ],
      "execution_count": 70,
      "outputs": []
    },
    {
      "cell_type": "code",
      "metadata": {
        "colab": {
          "base_uri": "https://localhost:8080/"
        },
        "id": "HJMKhE0jbi03",
        "outputId": "07770d80-ae02-4396-d457-41d2ca602090"
      },
      "source": [
        "records"
      ],
      "execution_count": 71,
      "outputs": [
        {
          "output_type": "execute_result",
          "data": {
            "text/plain": [
              "{'1001': {'name': 'Choco Cake', 'pr': 100, 'qn': 34},\n",
              " '1002': {'name': 'Milk Cake', 'pr': 800, 'qn': 100},\n",
              " '1004': {'name': 'Candy', 'pr': 5, 'qn': 1000},\n",
              " '1005': {'name': 'Pen', 'pr': 20, 'qn': 100},\n",
              " '1006': {'name': 'Phone', 'pr': 50000, 'qn': 10},\n",
              " '1007': {'name': 'Mic', 'pr': 1500, 'qn': 0},\n",
              " '1008': {'name': 'Case', 'pr': 599, 'qn': 5},\n",
              " '1009': {'name': 'Keyboard', 'pr': 1999, 'qn': 5},\n",
              " '1010': {'name': 'fruit', 'pr': 1200, 'qn': 5},\n",
              " '1011': {'name': 'sweep', 'pr': 500, 'qn': 7},\n",
              " '1012': {'name': 'soap', 'pr': 350, 'qn': 10},\n",
              " '1013': {'name': 'brush', 'pr': 520, 'qn': 10},\n",
              " '1014': {'name': 'matress', 'pr': 3000, 'qn': 2},\n",
              " '1015': {'name': 'blanket', 'pr': 1500, 'qn': 1},\n",
              " '1016': {'name': 'shoes', 'pr': 1600, 'qn': 1},\n",
              " '1017': {'name': 'flour', 'pr': 299, 'qn': 1},\n",
              " '1018': {'name': 't-shirt', 'pr': 600, 'qn': 7},\n",
              " '1019': {'name': 'bottle', 'pr': 300, 'qn': 1},\n",
              " '1020': {'name': 'earphone', 'pr': 499, 'qn': 2},\n",
              " '1021': {'name': 'iron', 'pr': 1600, 'qn': 1},\n",
              " '1022': {'name': 'mouse', 'pr': 5555, 'qn': 20},\n",
              " '1023': {'name': 'wiper', 'pr': 4000, 'qn': 12},\n",
              " '1024': {'name': 'phone', 'pr': 10000, 'qn': 30},\n",
              " '1025': {'name': 'shirt', 'pr': 8000, 'qn': 20},\n",
              " '1026': {'name': 'table', 'pr': 15000, 'qn': 25},\n",
              " '1027': {'name': 'perfume', 'pr': 6000, 'qn': 30},\n",
              " '1028': {'name': 'handwash', 'pr': 5000, 'qn': 45},\n",
              " '1029': {'name': 'sheets', 'pr': 400, 'qn': 20},\n",
              " '1030': {'name': 'backcover', 'pr': 500, 'qn': 55}}"
            ]
          },
          "metadata": {},
          "execution_count": 71
        }
      ]
    },
    {
      "cell_type": "code",
      "metadata": {
        "colab": {
          "base_uri": "https://localhost:8080/"
        },
        "id": "pq2FxkGacqsT",
        "outputId": "3c1007e9-f916-48df-9a1a-f143b2a3ca01"
      },
      "source": [
        "{'prod' : ui_prod, 'qn' : ui_quant, 'amount': records[ui_prod]['pr'] * ui_quant}\n"
      ],
      "execution_count": 76,
      "outputs": [
        {
          "output_type": "execute_result",
          "data": {
            "text/plain": [
              "{'amount': 40000, 'prod': '1025', 'qn': 5}"
            ]
          },
          "metadata": {},
          "execution_count": 76
        }
      ]
    },
    {
      "cell_type": "code",
      "metadata": {
        "id": "cTh1u7SKc2Uh"
      },
      "source": [
        "sales = {1 : {'prod' : ui_prod, 'qn' : ui_quant, 'amount': records[ui_prod]['pr'] * ui_quant},\n",
        "         2 : {'prod' : ui_prod, 'qn' : ui_quant, 'amount': records[ui_prod]['pr'] * ui_quant},\n",
        "         3 : {'prod' : ui_prod, 'qn' : ui_quant, 'amount': records[ui_prod]['pr'] * ui_quant}}"
      ],
      "execution_count": 78,
      "outputs": []
    },
    {
      "cell_type": "code",
      "metadata": {
        "id": "TnsgSssPc52u"
      },
      "source": [
        "sale = json.dumps(sales)\n",
        "\n"
      ],
      "execution_count": 80,
      "outputs": []
    },
    {
      "cell_type": "code",
      "metadata": {
        "colab": {
          "base_uri": "https://localhost:8080/"
        },
        "id": "WJlfsfybgxFS",
        "outputId": "41124072-bda8-4abc-820d-a24597f898da"
      },
      "source": [
        "print(sale)"
      ],
      "execution_count": 81,
      "outputs": [
        {
          "output_type": "stream",
          "name": "stdout",
          "text": [
            "{\"1\": {\"prod\": \"1025\", \"qn\": 5, \"amount\": 40000}, \"2\": {\"prod\": \"1025\", \"qn\": 5, \"amount\": 40000}, \"3\": {\"prod\": \"1025\", \"qn\": 5, \"amount\": 40000}}\n"
          ]
        }
      ]
    },
    {
      "cell_type": "code",
      "metadata": {
        "id": "gU4xThZwhaSB",
        "colab": {
          "base_uri": "https://localhost:8080/"
        },
        "outputId": "4f44bd38-3aaf-4433-f125-03b3a1d57cdf"
      },
      "source": [
        "print(type(sale))"
      ],
      "execution_count": 82,
      "outputs": [
        {
          "output_type": "stream",
          "name": "stdout",
          "text": [
            "<class 'str'>\n"
          ]
        }
      ]
    },
    {
      "cell_type": "code",
      "metadata": {
        "id": "PJhHhdcDhkE0"
      },
      "source": [
        "with open(\"sales.json\" , \"w\") as f:\n",
        "  f.write(sale)"
      ],
      "execution_count": 83,
      "outputs": []
    },
    {
      "cell_type": "code",
      "metadata": {
        "id": "IjsesTOKkQCw"
      },
      "source": [
        "fd = open(\"sales.json\",'r')\n",
        "r = fd.read()\n",
        "fd.close()\n",
        "\n",
        "records = json.loads(r)"
      ],
      "execution_count": 84,
      "outputs": []
    }
  ]
}