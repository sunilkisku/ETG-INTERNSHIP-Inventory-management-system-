{
  "nbformat": 4,
  "nbformat_minor": 0,
  "metadata": {
    "colab": {
      "name": "Adding.ipynb",
      "provenance": [],
      "collapsed_sections": []
    },
    "kernelspec": {
      "name": "python3",
      "display_name": "Python 3"
    },
    "language_info": {
      "name": "python"
    }
  },
  "cells": [
    {
      "cell_type": "code",
      "metadata": {
        "id": "Trwrkbq8W203"
      },
      "source": [
        "import json\n"
      ],
      "execution_count": 7,
      "outputs": []
    },
    {
      "cell_type": "code",
      "metadata": {
        "id": "HCGqlm2RVSda"
      },
      "source": [
        "fd = open(\"record.json\",'r')\n",
        "r = fd.read()\n",
        "fd.close()\n",
        "\n",
        "\n",
        "\n",
        "\n"
      ],
      "execution_count": 8,
      "outputs": []
    },
    {
      "cell_type": "code",
      "metadata": {
        "id": "jiYtt3_aV5mS"
      },
      "source": [
        "record = json.loads(r)\n"
      ],
      "execution_count": 10,
      "outputs": []
    },
    {
      "cell_type": "code",
      "metadata": {
        "colab": {
          "base_uri": "https://localhost:8080/"
        },
        "id": "ygxdcOewWH6y",
        "outputId": "2a2a244b-627e-47a7-bcf1-d5c4337bef12"
      },
      "source": [
        "record"
      ],
      "execution_count": 11,
      "outputs": [
        {
          "output_type": "execute_result",
          "data": {
            "text/plain": [
              "{'1001': {'name': 'Choco Cake', 'pr': 100, 'qn': 34},\n",
              " '1002': {'name': 'Milk Cake', 'pr': 800, 'qn': 100},\n",
              " '1004': {'name': 'Candy', 'pr': 5, 'qn': 1000},\n",
              " '1005': {'name': 'Pen', 'pr': 20, 'qn': 100},\n",
              " '1006': {'name': 'Phone', 'pr': 50000, 'qn': 10},\n",
              " '1007': {'name': 'Mic', 'pr': 1500, 'qn': 0},\n",
              " '1008': {'name': 'Case', 'pr': 599, 'qn': 5},\n",
              " '1009': {'name': 'Keyboard', 'pr': 1999, 'qn': 5},\n",
              " '1010': {'name': 'fruit', 'pr': 1200, 'qn': 5},\n",
              " '1011': {'name': 'sweep', 'pr': 500, 'qn': 7},\n",
              " '1012': {'name': 'soap', 'pr': 350, 'qn': 10},\n",
              " '1013': {'name': 'brush', 'pr': 520, 'qn': 10},\n",
              " '1014': {'name': 'matress', 'pr': 3000, 'qn': 2},\n",
              " '1015': {'name': 'blanket', 'pr': 1500, 'qn': 1},\n",
              " '1016': {'name': 'shoes', 'pr': 1600, 'qn': 1},\n",
              " '1017': {'name': 'flour', 'pr': 299, 'qn': 1},\n",
              " '1018': {'name': 't-shirt', 'pr': 600, 'qn': 7},\n",
              " '1019': {'name': 'bottle', 'pr': 300, 'qn': 1},\n",
              " '1020': {'name': 'earphone', 'pr': 499, 'qn': 2},\n",
              " '1021': {'name': 'iron', 'pr': 1600, 'qn': 1}}"
            ]
          },
          "metadata": {},
          "execution_count": 11
        }
      ]
    },
    {
      "cell_type": "markdown",
      "metadata": {
        "id": "CdR4FwixZGW4"
      },
      "source": [
        "ADD ITEMS IN INVENTORY\n"
      ]
    },
    {
      "cell_type": "code",
      "metadata": {
        "colab": {
          "base_uri": "https://localhost:8080/"
        },
        "id": "ueN9IGzRXE47",
        "outputId": "46019d10-8eab-4948-e5e8-01e4630e5494"
      },
      "source": [
        "\n",
        "prod_id = str(input(\"Enter product id:\"))\n",
        "name = str(input(\"Enter name:\"))\n",
        "pr = int(input(\"Enter price:\"))\n",
        "qn = int(input(\"Enter quantity:\"))\n",
        "\n",
        "record[prod_id] = {'name': name, 'pr': pr, 'qn': qn}\n",
        "\n",
        "js = json.dumps(record)\n",
        "\n",
        "fd = open(\"record.json\",'w')\n",
        "fd.write(js)\n",
        "fd.close()"
      ],
      "execution_count": 20,
      "outputs": [
        {
          "name": "stdout",
          "output_type": "stream",
          "text": [
            "Enter product id:1030\n",
            "Enter name:backcover\n",
            "Enter price:500\n",
            "Enter quantity:60\n"
          ]
        }
      ]
    },
    {
      "cell_type": "code",
      "metadata": {
        "colab": {
          "base_uri": "https://localhost:8080/"
        },
        "id": "e4R-g5prXM9K",
        "outputId": "5aed5091-e38d-4cc6-822b-9041934ebd69"
      },
      "source": [
        "record"
      ],
      "execution_count": 21,
      "outputs": [
        {
          "output_type": "execute_result",
          "data": {
            "text/plain": [
              "{'1001': {'name': 'Choco Cake', 'pr': 100, 'qn': 34},\n",
              " '1002': {'name': 'Milk Cake', 'pr': 800, 'qn': 100},\n",
              " '1004': {'name': 'Candy', 'pr': 5, 'qn': 1000},\n",
              " '1005': {'name': 'Pen', 'pr': 20, 'qn': 100},\n",
              " '1006': {'name': 'Phone', 'pr': 50000, 'qn': 10},\n",
              " '1007': {'name': 'Mic', 'pr': 1500, 'qn': 0},\n",
              " '1008': {'name': 'Case', 'pr': 599, 'qn': 5},\n",
              " '1009': {'name': 'Keyboard', 'pr': 1999, 'qn': 5},\n",
              " '1010': {'name': 'fruit', 'pr': 1200, 'qn': 5},\n",
              " '1011': {'name': 'sweep', 'pr': 500, 'qn': 7},\n",
              " '1012': {'name': 'soap', 'pr': 350, 'qn': 10},\n",
              " '1013': {'name': 'brush', 'pr': 520, 'qn': 10},\n",
              " '1014': {'name': 'matress', 'pr': 3000, 'qn': 2},\n",
              " '1015': {'name': 'blanket', 'pr': 1500, 'qn': 1},\n",
              " '1016': {'name': 'shoes', 'pr': 1600, 'qn': 1},\n",
              " '1017': {'name': 'flour', 'pr': 299, 'qn': 1},\n",
              " '1018': {'name': 't-shirt', 'pr': 600, 'qn': 7},\n",
              " '1019': {'name': 'bottle', 'pr': 300, 'qn': 1},\n",
              " '1020': {'name': 'earphone', 'pr': 499, 'qn': 2},\n",
              " '1021': {'name': 'iron', 'pr': 1600, 'qn': 1},\n",
              " '1022': {'name': 'mouse', 'pr': 5555, 'qn': 20},\n",
              " '1023': {'name': 'wiper', 'pr': 4000, 'qn': 12},\n",
              " '1024': {'name': 'phone', 'pr': 10000, 'qn': 33},\n",
              " '1025': {'name': 'shirt', 'pr': 8000, 'qn': 20},\n",
              " '1026': {'name': 'table', 'pr': 15000, 'qn': 25},\n",
              " '1027': {'name': 'perfume', 'pr': 6000, 'qn': 30},\n",
              " '1028': {'name': 'handwash', 'pr': 5000, 'qn': 45},\n",
              " '1029': {'name': 'sheets', 'pr': 400, 'qn': 20},\n",
              " '1030': {'name': 'backcover', 'pr': 500, 'qn': 60}}"
            ]
          },
          "metadata": {},
          "execution_count": 21
        }
      ]
    },
    {
      "cell_type": "code",
      "metadata": {
        "id": "mK8_z-b2XSHa"
      },
      "source": [
        "del record['1003']\n"
      ],
      "execution_count": null,
      "outputs": []
    },
    {
      "cell_type": "code",
      "metadata": {
        "colab": {
          "base_uri": "https://localhost:8080/"
        },
        "id": "hvJKA2jRXVZI",
        "outputId": "de190843-ff8f-470b-bc6d-9fcaca3e4a49"
      },
      "source": [
        "record"
      ],
      "execution_count": 22,
      "outputs": [
        {
          "output_type": "execute_result",
          "data": {
            "text/plain": [
              "{'1001': {'name': 'Choco Cake', 'pr': 100, 'qn': 34},\n",
              " '1002': {'name': 'Milk Cake', 'pr': 800, 'qn': 100},\n",
              " '1004': {'name': 'Candy', 'pr': 5, 'qn': 1000},\n",
              " '1005': {'name': 'Pen', 'pr': 20, 'qn': 100},\n",
              " '1006': {'name': 'Phone', 'pr': 50000, 'qn': 10},\n",
              " '1007': {'name': 'Mic', 'pr': 1500, 'qn': 0},\n",
              " '1008': {'name': 'Case', 'pr': 599, 'qn': 5},\n",
              " '1009': {'name': 'Keyboard', 'pr': 1999, 'qn': 5},\n",
              " '1010': {'name': 'fruit', 'pr': 1200, 'qn': 5},\n",
              " '1011': {'name': 'sweep', 'pr': 500, 'qn': 7},\n",
              " '1012': {'name': 'soap', 'pr': 350, 'qn': 10},\n",
              " '1013': {'name': 'brush', 'pr': 520, 'qn': 10},\n",
              " '1014': {'name': 'matress', 'pr': 3000, 'qn': 2},\n",
              " '1015': {'name': 'blanket', 'pr': 1500, 'qn': 1},\n",
              " '1016': {'name': 'shoes', 'pr': 1600, 'qn': 1},\n",
              " '1017': {'name': 'flour', 'pr': 299, 'qn': 1},\n",
              " '1018': {'name': 't-shirt', 'pr': 600, 'qn': 7},\n",
              " '1019': {'name': 'bottle', 'pr': 300, 'qn': 1},\n",
              " '1020': {'name': 'earphone', 'pr': 499, 'qn': 2},\n",
              " '1021': {'name': 'iron', 'pr': 1600, 'qn': 1},\n",
              " '1022': {'name': 'mouse', 'pr': 5555, 'qn': 20},\n",
              " '1023': {'name': 'wiper', 'pr': 4000, 'qn': 12},\n",
              " '1024': {'name': 'phone', 'pr': 10000, 'qn': 33},\n",
              " '1025': {'name': 'shirt', 'pr': 8000, 'qn': 20},\n",
              " '1026': {'name': 'table', 'pr': 15000, 'qn': 25},\n",
              " '1027': {'name': 'perfume', 'pr': 6000, 'qn': 30},\n",
              " '1028': {'name': 'handwash', 'pr': 5000, 'qn': 45},\n",
              " '1029': {'name': 'sheets', 'pr': 400, 'qn': 20},\n",
              " '1030': {'name': 'backcover', 'pr': 500, 'qn': 60}}"
            ]
          },
          "metadata": {},
          "execution_count": 22
        }
      ]
    }
  ]
}